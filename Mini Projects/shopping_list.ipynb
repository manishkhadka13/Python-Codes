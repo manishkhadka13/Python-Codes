{
 "cells": [
  {
   "cell_type": "code",
   "execution_count": null,
   "metadata": {},
   "outputs": [],
   "source": [
    "#create a list to store the items\n",
    "import sys\n",
    "shopping_list = []"
   ]
  },
  {
   "cell_type": "code",
   "execution_count": null,
   "metadata": {},
   "outputs": [],
   "source": [
    "#create a function for menu\n",
    "def menu():\n",
    "    print(\"What do you want to do?\")\n",
    "    print(\"1. Add item\")\n",
    "    print(\"2. View items\")\n",
    "    print(\"3. Remove item\")\n",
    "    print(\"4. Exit\")"
   ]
  },
  {
   "cell_type": "code",
   "execution_count": null,
   "metadata": {},
   "outputs": [],
   "source": [
    "#create a function to add items\n",
    "def add_item(item):\n",
    "    item=item.capitalize()\n",
    "    if item not in shopping_list:\n",
    "        shopping_list.append(item)\n",
    "        print(\" {} Item added in your shopping list\".format(item))\n",
    "        print(\"You have {} items in your shopping list\".format(len(shopping_list)))\n",
    "    else:\n",
    "        print(\"Item already in the list\")"
   ]
  },
  {
   "cell_type": "code",
   "execution_count": null,
   "metadata": {},
   "outputs": [],
   "source": [
    "#create a function to view items\n",
    "def view_items():\n",
    "    print(\"Your shopping list contains:\")\n",
    "    for item in shopping_list:\n",
    "        print(item)"
   ]
  },
  {
   "cell_type": "code",
   "execution_count": null,
   "metadata": {},
   "outputs": [],
   "source": [
    "#create a function for deleting items\n",
    "def remove_item(item):\n",
    "    item=item.capitalize()\n",
    "    if item in shopping_list:\n",
    "        shopping_list.remove(item)\n",
    "        print(\" {} Item removed from your shopping list\".format(item))\n",
    "        print(\"You have {} items in your shopping list\".format(len(shopping_list)))\n",
    "    else:\n",
    "        print(\"Item is in the list\")\n",
    "    "
   ]
  },
  {
   "cell_type": "code",
   "execution_count": null,
   "metadata": {},
   "outputs": [],
   "source": [
    "#create a function for exiting\n",
    "def exit():\n",
    "    print(\"Thank you for using the shopping list app\")\n",
    "    print(\"You have {} items in your shopping list\".format(len(shopping_list)))\n",
    "    print(\"Bye Bye\")\n",
    "    sys.exit()\n"
   ]
  },
  {
   "cell_type": "code",
   "execution_count": null,
   "metadata": {},
   "outputs": [],
   "source": [
    "#main function\n",
    "if __name__ == \"__main__\":\n",
    "    while True:\n",
    "        menu()\n",
    "        choice = input(\"Enter your choice: \")\n",
    "        if choice == \"1\":\n",
    "            item = input(\"Enter the item you want to add: \")\n",
    "            add_item(item)\n",
    "        elif choice == \"2\":\n",
    "            view_items()\n",
    "        elif choice == \"3\":\n",
    "            item = input(\"Enter the item you want to remove: \")\n",
    "            remove_item(item)\n",
    "        elif choice == \"4\":\n",
    "            exit()\n",
    "        else:\n",
    "            print(\"Invalid choice\")\n"
   ]
  }
 ],
 "metadata": {
  "kernelspec": {
   "display_name": "Python 3.8.10 64-bit",
   "language": "python",
   "name": "python3"
  },
  "language_info": {
   "codemirror_mode": {
    "name": "ipython",
    "version": 3
   },
   "file_extension": ".py",
   "mimetype": "text/x-python",
   "name": "python",
   "nbconvert_exporter": "python",
   "pygments_lexer": "ipython3",
   "version": "3.8.10"
  },
  "orig_nbformat": 4,
  "vscode": {
   "interpreter": {
    "hash": "916dbcbb3f70747c44a77c7bcd40155683ae19c65e1c03b4aa3499c5328201f1"
   }
  }
 },
 "nbformat": 4,
 "nbformat_minor": 2
}
